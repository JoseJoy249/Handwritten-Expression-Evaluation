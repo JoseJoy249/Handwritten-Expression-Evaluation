{
 "cells": [
  {
   "cell_type": "code",
   "execution_count": 15,
   "metadata": {},
   "outputs": [],
   "source": [
    "import keras\n",
    "from keras.datasets import mnist\n",
    "from keras.layers import Dense, Flatten\n",
    "from keras.layers import Conv2D, MaxPooling2D\n",
    "from keras.models import Sequential\n",
    "from keras.layers.normalization import BatchNormalization\n",
    "from keras.layers import Activation\n",
    "from keras.layers import Dropout\n",
    "\n",
    "import matplotlib.pylab as plt\n",
    "import numpy as np\n",
    "import pandas as pd\n",
    "import sys\n",
    "import argparse\n",
    "import preprocess"
   ]
  },
  {
   "cell_type": "code",
   "execution_count": 17,
   "metadata": {},
   "outputs": [],
   "source": [
    "# Creating dictionary of labels\n",
    "class_labels = {str(x):x for x in range(10)}\n",
    "class_labels.update({'+':10, 'times':11, '-':12 })\n",
    "label_class = dict( zip(class_labels.values(), class_labels.keys() ))\n",
    "\n",
    "# Loading data from .npy file and spliting into training and validation sets\n",
    "path = './Training Data/'\n",
    "ver = '1'\n",
    "path1 = path+'data_ver'+ver+'.npy'\n",
    "path2 = path+'labels_ver'+ver+'.npy'\n",
    "data, labels = preprocess.load_data(class_labels, path1 , path2, train = 0.9 , val = 0.1)"
   ]
  },
  {
   "cell_type": "code",
   "execution_count": 8,
   "metadata": {},
   "outputs": [
    {
     "data": {
      "image/png": "[encoded data removed]",
      "text/plain": [
       "<matplotlib.figure.Figure at 0x1a1e742a90>"
      ]
     },
     "metadata": {},
     "output_type": "display_data"
    },
    {
     "name": "stdout",
     "output_type": "stream",
     "text": [
      "Label =  4\n"
     ]
    }
   ],
   "source": [
    "idx = np.random.randint(data['train'].shape[0])\n",
    "plt.imshow(data['train'][idx,:].reshape(28,28),cmap = 'gray')\n",
    "plt.show()\n",
    "print('Label = ',label_class[ np.argmax(labels['train'][idx,:])])"
   ]
  },
  {
   "cell_type": "code",
   "execution_count": 30,
   "metadata": {
    "scrolled": true
   },
   "outputs": [
    {
     "name": "stdout",
     "output_type": "stream",
     "text": [
      "Train on 19543 samples, validate on 2171 samples\n",
      "Epoch 1/20\n",
      "19543/19543 [==============================] - 87s 4ms/step - loss: 0.2162 - acc: 0.9390 - val_loss: 5.3566 - val_acc: 0.1059\n",
      "Epoch 2/20\n",
      "19543/19543 [==============================] - 93s 5ms/step - loss: 0.0450 - acc: 0.9872 - val_loss: 6.3307 - val_acc: 0.1059\n",
      "Epoch 3/20\n",
      "19543/19543 [==============================] - 90s 5ms/step - loss: 0.0256 - acc: 0.9945 - val_loss: 6.9749 - val_acc: 0.1059\n",
      "Epoch 4/20\n",
      "19543/19543 [==============================] - 85s 4ms/step - loss: 0.0144 - acc: 0.9968 - val_loss: 6.5080 - val_acc: 0.1059\n",
      "Epoch 5/20\n",
      "19543/19543 [==============================] - 77s 4ms/step - loss: 0.0095 - acc: 0.9985 - val_loss: 4.6511 - val_acc: 0.2133\n",
      "Epoch 6/20\n",
      "19543/19543 [==============================] - 85s 4ms/step - loss: 0.0070 - acc: 0.9987 - val_loss: 2.1331 - val_acc: 0.4638\n",
      "Epoch 7/20\n",
      "19543/19543 [==============================] - 85s 4ms/step - loss: 0.0069 - acc: 0.9988 - val_loss: 0.6706 - val_acc: 0.7959\n",
      "Epoch 8/20\n",
      "19543/19543 [==============================] - 119s 6ms/step - loss: 0.0056 - acc: 0.9988 - val_loss: 0.1583 - val_acc: 0.9498\n",
      "Epoch 9/20\n",
      "19543/19543 [==============================] - 143s 7ms/step - loss: 0.0068 - acc: 0.9981 - val_loss: 0.0868 - val_acc: 0.9756\n",
      "Epoch 10/20\n",
      "19543/19543 [==============================] - 152s 8ms/step - loss: 0.0090 - acc: 0.9975 - val_loss: 0.0565 - val_acc: 0.9820\n",
      "Epoch 11/20\n",
      "19543/19543 [==============================] - 150s 8ms/step - loss: 0.0059 - acc: 0.9987 - val_loss: 0.0449 - val_acc: 0.9862\n",
      "Epoch 12/20\n",
      "19543/19543 [==============================] - 143s 7ms/step - loss: 0.0054 - acc: 0.9987 - val_loss: 0.0573 - val_acc: 0.9839\n",
      "Epoch 13/20\n",
      "19543/19543 [==============================] - 146s 7ms/step - loss: 0.0066 - acc: 0.9983 - val_loss: 0.0892 - val_acc: 0.9733\n",
      "Epoch 14/20\n",
      "19543/19543 [==============================] - 134s 7ms/step - loss: 0.0056 - acc: 0.9985 - val_loss: 0.0520 - val_acc: 0.9862\n",
      "Epoch 15/20\n",
      "19543/19543 [==============================] - 148s 8ms/step - loss: 0.0044 - acc: 0.9988 - val_loss: 0.0684 - val_acc: 0.9825\n",
      "Epoch 16/20\n",
      "19543/19543 [==============================] - 162s 8ms/step - loss: 0.0033 - acc: 0.9990 - val_loss: 0.0460 - val_acc: 0.9885\n",
      "Epoch 17/20\n",
      "19543/19543 [==============================] - 157s 8ms/step - loss: 0.0022 - acc: 0.9995 - val_loss: 0.0340 - val_acc: 0.9899\n",
      "Epoch 18/20\n",
      "19543/19543 [==============================] - 144s 7ms/step - loss: 0.0022 - acc: 0.9996 - val_loss: 0.0388 - val_acc: 0.9889\n",
      "Epoch 19/20\n",
      "19543/19543 [==============================] - 126s 6ms/step - loss: 0.0016 - acc: 0.9996 - val_loss: 0.0487 - val_acc: 0.9857\n",
      "Epoch 20/20\n",
      "19543/19543 [==============================] - 124s 6ms/step - loss: 0.0042 - acc: 0.9987 - val_loss: 0.0780 - val_acc: 0.9779\n",
      "Saved model to disk\n"
     ]
    }
   ],
   "source": [
    "img_x, img_y = 28, 28\n",
    "x_train = data['train'].reshape(data['train'].shape[0], img_x, img_y, 1)\n",
    "y_train = labels['train']\n",
    "x_test = data['val'].reshape(data['val'].shape[0], img_x, img_y, 1)\n",
    "y_test = labels['val']\n",
    "input_shape = (img_x, img_y, 1)\n",
    "\n",
    "# convert the data to the right type\n",
    "x_train = x_train.astype('float32')\n",
    "x_test = x_test.astype('float32')\n",
    "num_classes = y_train.shape[1]\n",
    "\n",
    "model = Sequential()\n",
    "model.add(Conv2D(32, kernel_size=(3, 3), strides=(1, 1),input_shape=input_shape))\n",
    "model.add(BatchNormalization())\n",
    "model.add( keras.layers.LeakyReLU(alpha=0.1)  )\n",
    "model.add(Dropout(0.1))\n",
    "model.add(MaxPooling2D(pool_size=(2, 2), strides=(2, 2)))\n",
    "\n",
    "model.add(Conv2D(64, (3, 3)))\n",
    "model.add(BatchNormalization())\n",
    "model.add( keras.layers.LeakyReLU(alpha=0.1)  )\n",
    "model.add(Dropout(0.1))\n",
    "model.add(MaxPooling2D(pool_size=(2, 2)))\n",
    "\n",
    "model.add(Flatten())\n",
    "model.add(Dense(1000 ))\n",
    "model.add(BatchNormalization())\n",
    "model.add(Activation('relu'))\n",
    "model.add(Dropout(0.1))\n",
    "\n",
    "model.add(Dense(256 ))\n",
    "model.add(BatchNormalization())\n",
    "model.add(Activation('relu'))\n",
    "model.add(Dropout(0.1))\n",
    "\n",
    "model.add(Dense(num_classes, activation='softmax'))\n",
    "\n",
    "adam1 = keras.optimizers.Adam(lr=0.001, beta_1=0.9, beta_2=0.999)\n",
    "model.compile(loss=keras.losses.categorical_crossentropy, optimizer=adam1,metrics=['accuracy'] )\n",
    "history = model.fit(x_train, y_train, epochs=20, batch_size=256,validation_split=0.1,\n",
    "                   validation_data=(x_test, y_test))\n",
    "\n",
    "# serialize model to JSON\n",
    "model_json = model.to_json()\n",
    "with open(\"./trained models/CNN_ver{0}.1.json\".format(ver), \"w\") as json_file:\n",
    "    json_file.write(model_json)\n",
    "# serialize weights to HDF5\n",
    "model.save_weights(\"./trained models/CNN_ver{0}.1.h5\".format(ver))\n",
    "print(\"Saved model to disk\")\n",
    "\n"
   ]
  },
  {
   "cell_type": "markdown",
   "metadata": {},
   "source": [
    "  CNN Ver1 results test accuracy = "
   ]
  },
  {
   "cell_type": "code",
   "execution_count": 31,
   "metadata": {},
   "outputs": [
    {
     "data": {
      "text/plain": [
       "<matplotlib.figure.Figure at 0x1a3876d828>"
      ]
     },
     "metadata": {},
     "output_type": "display_data"
    },
    {
     "data": {
      "image/png": "[encoded data removed]",
      "text/plain": [
       "<matplotlib.figure.Figure at 0x1a3c04b898>"
      ]
     },
     "metadata": {},
     "output_type": "display_data"
    },
    {
     "data": {
      "image/png": "[encoded data removed]",
      "text/plain": [
       "<matplotlib.figure.Figure at 0x1a25062f28>"
      ]
     },
     "metadata": {},
     "output_type": "display_data"
    }
   ],
   "source": [
    "# summarize history for accuracy\n",
    "plt.figure(figsize=(8,4))\n",
    "plt.plot(history.history['acc'])\n",
    "plt.plot(history.history['val_acc'])\n",
    "plt.title('CNN model ver{0} accuracy'.format(ver),fontsize = 14)\n",
    "plt.xticks(fontsize = 13)\n",
    "plt.yticks(fontsize = 13)\n",
    "plt.ylabel('accuracy',fontsize = 14)\n",
    "plt.xlabel('epochs',fontsize = 14)\n",
    "plt.legend(['train', 'val'], loc='upper left',fontsize = 12)\n",
    "plt.show()\n",
    "\n",
    "# summarize history for loss\n",
    "plt.figure(figsize=(8,4))\n",
    "plt.plot(history.history['loss'])\n",
    "plt.plot(history.history['val_loss'])\n",
    "plt.title('CNN model ver{0} loss'.format(ver),fontsize = 14)\n",
    "plt.xticks(fontsize = 13)\n",
    "plt.yticks(fontsize = 13)\n",
    "plt.ylabel('loss',fontsize = 14)\n",
    "plt.xlabel('epochs',fontsize = 14)\n",
    "plt.legend(['train', 'val'], loc='upper right', fontsize = 12)\n",
    "plt.show()\n"
   ]
  }
 ],
 "metadata": {
  "kernelspec": {
   "display_name": "Python 3",
   "language": "python",
   "name": "python3"
  },
  "language_info": {
   "codemirror_mode": {
    "name": "ipython",
    "version": 3
   },
   "file_extension": ".py",
   "mimetype": "text/x-python",
   "name": "python",
   "nbconvert_exporter": "python",
   "pygments_lexer": "ipython3",
   "version": "3.6.4"
  }
 },
 "nbformat": 4,
 "nbformat_minor": 2
}
