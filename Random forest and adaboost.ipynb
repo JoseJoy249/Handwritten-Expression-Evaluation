{
 "cells": [
  {
   "cell_type": "code",
   "execution_count": 2,
   "metadata": {},
   "outputs": [
    {
     "name": "stderr",
     "output_type": "stream",
     "text": [
      "Using TensorFlow backend.\n"
     ]
    }
   ],
   "source": [
    "import numpy as np\n",
    "from tqdm import tqdm \n",
    "import matplotlib.pyplot as plt\n",
    "from sklearn.ensemble import RandomForestClassifier, AdaBoostClassifier\n",
    "import pandas as pd\n",
    "import pickle\n",
    "import preprocess"
   ]
  },
  {
   "cell_type": "code",
   "execution_count": 3,
   "metadata": {},
   "outputs": [],
   "source": [
    "# Creating dictionary of labels\n",
    "class_labels = {str(x):x for x in range(10)}\n",
    "class_labels.update({'+':10, 'times':11, '-':12 })\n",
    "label_class = dict( zip(class_labels.values(), class_labels.keys() ))\n",
    "\n",
    "# Loading data from .npy file and spliting into training and validation sets\n",
    "path = '/Users/josejoy/Desktop/ECE 271B Stat Learning /project/Training Data/'\n",
    "data, labels = preprocess.load_data(class_labels, path+'data_ver2.npy' , path+'labels_ver2.npy'\n",
    "                                   , train = 0.85 , val = 0.15)\n"
   ]
  },
  {
   "cell_type": "code",
   "execution_count": 33,
   "metadata": {},
   "outputs": [],
   "source": [
    "data = np.load(path+'labels_ver1.npy' )"
   ]
  },
  {
   "cell_type": "code",
   "execution_count": 34,
   "metadata": {},
   "outputs": [
    {
     "data": {
      "text/plain": [
       "(21715, 1)"
      ]
     },
     "execution_count": 34,
     "metadata": {},
     "output_type": "execute_result"
    }
   ],
   "source": [
    "data.shape"
   ]
  },
  {
   "cell_type": "code",
   "execution_count": 32,
   "metadata": {},
   "outputs": [
    {
     "data": {
      "text/plain": [
       "10001"
      ]
     },
     "execution_count": 32,
     "metadata": {},
     "output_type": "execute_result"
    }
   ],
   "source": [
    "len(data[data[:,0]=='-'])"
   ]
  },
  {
   "cell_type": "code",
   "execution_count": null,
   "metadata": {
    "collapsed": true
   },
   "outputs": [],
   "source": []
  },
  {
   "cell_type": "code",
   "execution_count": 173,
   "metadata": {
    "scrolled": false
   },
   "outputs": [
    {
     "data": {
      "image/png": "[encoded data removed]",
      "text/plain": [
       "<matplotlib.figure.Figure at 0x1a1ec24b70>"
      ]
     },
     "metadata": {},
     "output_type": "display_data"
    },
    {
     "name": "stdout",
     "output_type": "stream",
     "text": [
      "Label =  0\n"
     ]
    }
   ],
   "source": [
    "idx = np.random.randint(data['train'].shape[0])\n",
    "plt.imshow(data['train'][idx,:].reshape(28,28),cmap = 'gray')\n",
    "plt.colorbar()\n",
    "plt.show()\n",
    "print('Label = ',label_class[ np.argmax(labels['train'][idx,:])])\n",
    "\n"
   ]
  },
  {
   "cell_type": "markdown",
   "metadata": {},
   "source": [
    "## Random Forest Model training"
   ]
  },
  {
   "cell_type": "code",
   "execution_count": 163,
   "metadata": {
    "scrolled": false
   },
   "outputs": [
    {
     "name": "stdout",
     "output_type": "stream",
     "text": [
      "19.4043598403\n"
     ]
    },
    {
     "data": {
      "image/png": "[encoded data removed]",
      "text/plain": [
       "<matplotlib.figure.Figure at 0x11689b978>"
      ]
     },
     "metadata": {},
     "output_type": "display_data"
    },
    {
     "name": "stdout",
     "output_type": "stream",
     "text": [
      "CPU times: user 50.3 s, sys: 425 ms, total: 50.7 s\n",
      "Wall time: 51.2 s\n"
     ]
    }
   ],
   "source": [
    "%%time\n",
    "train_label = np.argmax(labels['train'], axis = 1)\n",
    "RFmodel = RandomForestClassifier(max_depth=4, n_estimators=2000, class_weight='balanced' )\n",
    "RFmodel.fit(data['train'],train_label)\n",
    "pred = RFmodel.predict(data['val'])\n",
    "test_label = np.argmax(labels['val'], axis = 1)\n",
    "error1 = np.sum([pred!=test_label])*100/test_label.shape[0]\n",
    "print( error1 )\n",
    "plt.imshow( RFmodel.feature_importances_.reshape([28,28]) ,cmap = 'gray' )\n",
    "plt.show()\n",
    "\n",
    "## Saving trained model\n",
    "# filename = './trained models/RFmodel_ver1.1.sav'\n",
    "# pickle.dump(RFmodel, open(filename, 'wb'))"
   ]
  },
  {
   "cell_type": "markdown",
   "metadata": {},
   "source": [
    "## AdaBoost Stage 1 ( BInary classifer for Digits - Character classification)"
   ]
  },
  {
   "cell_type": "code",
   "execution_count": 165,
   "metadata": {
    "scrolled": false
   },
   "outputs": [
    {
     "name": "stdout",
     "output_type": "stream",
     "text": [
      "Stage1 error =  0.0\n"
     ]
    },
    {
     "data": {
      "image/png": "[encoded data removed]",
      "text/plain": [
       "<matplotlib.figure.Figure at 0x117c240b8>"
      ]
     },
     "metadata": {},
     "output_type": "display_data"
    }
   ],
   "source": [
    "%%time\n",
    "\n",
    "# converting traing labels to binary, for  digits / characters\n",
    "bin_label = np.argmax(labels['train'], axis = 1)\n",
    "bin_label[bin_label<10] = 1 # digits have label 1\n",
    "bin_label[bin_label>=10] = -1 # symbols have label -1\n",
    "\n",
    "stage1 = AdaBoostClassifier( n_estimators=250)\n",
    "stage1.fit(data['train'],bin_label )\n",
    "pred1 = stage1.predict(data['val'])\n",
    "\n",
    "# converting testing labels to binary, for  digits / characters\n",
    "test = np.argmax(labels['val'], axis = 1)\n",
    "test[test<10] = 1\n",
    "test[test>=10] = -1\n",
    "\n",
    "print( 'Stage1 error = ',sum( pred1!=test )*100/ test.shape[0])\n",
    "plt.imshow( stage1.feature_importances_.reshape([28,28]) ,cmap = 'gray' )\n",
    "plt.show()\n",
    "\n",
    "## Saving trained model\n",
    "# filename = './trained models/Adaboost_stage1_ver1.1.sav'\n",
    "# pickle.dump(stage1, open(filename, 'wb'))"
   ]
  },
  {
   "cell_type": "markdown",
   "metadata": {},
   "source": [
    "## AdaBoost Stage 2 (Digits classifier and symbol classifier)"
   ]
  },
  {
   "cell_type": "code",
   "execution_count": 167,
   "metadata": {
    "scrolled": true
   },
   "outputs": [
    {
     "name": "stdout",
     "output_type": "stream",
     "text": [
      "Stage2 error =  18.4218606079\n"
     ]
    }
   ],
   "source": [
    "# Creating labels for digits classifier, -1 is the class for any non digit symbol \n",
    "label1 = np.argmax(labels['train'],axis=1)\n",
    "label1[label1>=10] = -1\n",
    "\n",
    "# Creating labels for symbol classifier, -1 is the class for any non symbol digit\n",
    "label2 = np.argmax(labels['train'],axis=1)\n",
    "label2[label2<10] = -1\n",
    "\n",
    "\n",
    "# contains binary classifiers (one vs all) for each digit\n",
    "digits = AdaBoostClassifier( n_estimators=500, learning_rate=0.1) \n",
    "digits.fit(data['train'][label1!=-1],label1[label1!=-1])\n",
    "\n",
    "# contains binary classifiers (one vs all) for each digit\n",
    "chars =  AdaBoostClassifier( n_estimators=500, learning_rate=0.1) \n",
    "chars.fit(data['train'][label2!=-1],label2[label2!=-1])\n",
    "\n",
    "pred1 = stage1.predict(data['val'])\n",
    "pred_d = digits.predict(data['val'])\n",
    "pred_c = chars.predict(data['val'])\n",
    "test_full = np.argmax(labels['val'],axis=1)\n",
    "pred_d[pred1==-1] = -1\n",
    "pred_c[pred1==1] = -1\n",
    "pred = np.column_stack((pred_d,pred_c))\n",
    "predx = np.max(pred,axis= 1)\n",
    "print( 'Stage2 error = ',sum( predx!=test_full )*100/ test_full.shape[0])\n",
    "\n",
    "## Saving data\n",
    "# filename = './trained models/Adaboost_digits_ver1.1.sav'\n",
    "# pickle.dump(digits, open(filename, 'wb'))\n",
    "# filename = './trained models/Adaboost_chars_ver1.1.sav'\n",
    "# pickle.dump(chars, open(filename, 'wb'))\n"
   ]
  },
  {
   "cell_type": "code",
   "execution_count": 169,
   "metadata": {
    "scrolled": true
   },
   "outputs": [
    {
     "data": {
      "image/png": "[encoded data removed]",
      "text/plain": [
       "<matplotlib.figure.Figure at 0x116f2d400>"
      ]
     },
     "metadata": {},
     "output_type": "display_data"
    }
   ],
   "source": [
    "plt.imshow( digits.feature_importances_.reshape([28,28]) ,cmap = 'gray' )\n",
    "plt.show()"
   ]
  }
 ],
 "metadata": {
  "kernelspec": {
   "display_name": "Python 3",
   "language": "python",
   "name": "python3"
  },
  "language_info": {
   "codemirror_mode": {
    "name": "ipython",
    "version": 3
   },
   "file_extension": ".py",
   "mimetype": "text/x-python",
   "name": "python",
   "nbconvert_exporter": "python",
   "pygments_lexer": "ipython3",
   "version": "3.6.4"
  }
 },
 "nbformat": 4,
 "nbformat_minor": 2
}
